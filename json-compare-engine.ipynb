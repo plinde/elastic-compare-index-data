{
 "cells": [
  {
   "cell_type": "code",
   "execution_count": 11,
   "metadata": {
    "collapsed": false
   },
   "outputs": [
    {
     "name": "stdout",
     "output_type": "stream",
     "text": [
      "data/index-2016.04.10_hostsarray.json\n",
      "data/index-2016.04.11_hostsarray.json\n",
      "result was: False\n",
      "[u'host1', u'host2']\n",
      "[u'host1']\n"
     ]
    }
   ],
   "source": [
    "% run json-compare-engine data/index-2016.04.10_hostsarray.json data/index-2016.04.11_hostsarray.json"
   ]
  }
 ],
 "metadata": {
  "kernelspec": {
   "display_name": "Python 2",
   "language": "python",
   "name": "python2"
  },
  "language_info": {
   "codemirror_mode": {
    "name": "ipython",
    "version": 2
   },
   "file_extension": ".py",
   "mimetype": "text/x-python",
   "name": "python",
   "nbconvert_exporter": "python",
   "pygments_lexer": "ipython2",
   "version": "2.7.10"
  }
 },
 "nbformat": 4,
 "nbformat_minor": 0
}
