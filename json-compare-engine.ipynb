{
 "cells": [
  {
   "cell_type": "code",
   "execution_count": 11,
   "metadata": {
    "collapsed": false
   },
   "outputs": [
    {
     "name": "stdout",
     "output_type": "stream",
     "text": [
      "data/index-2016.04.10_hostsarray.json\n",
      "data/index-2016.04.11_hostsarray.json\n",
      "result was: False\n",
      "[u'host1', u'host2']\n",
      "[u'host1']\n"
     ]
    }
   ],
   "source": [
    "% run json-compare-engine data/index-2016.04.10_hostsarray.json data/index-2016.04.11_hostsarray.json"
   ]
  },
  {
   "cell_type": "code",
   "execution_count": 14,
   "metadata": {
    "collapsed": false
   },
   "outputs": [
    {
     "name": "stdout",
     "output_type": "stream",
     "text": [
      "data/index-2016.04.10_hostsarray.json\n",
      "data/index-2016.04.11_hostsarray.json\n",
      "result was: False\n",
      "[u'host1', u'host2']\n",
      "[u'host1']\n",
      "'clusterabc:9200'\n"
     ]
    }
   ],
   "source": [
    "import json\n",
    "from pprint import pprint\n",
    "\n",
    "import sys\n",
    "\n",
    "#cluster_host = sys.argv[1]\n",
    "#cluster_port = sys.argv[2]\n",
    "#json_loads_1 = sys.argv[3]\n",
    "#json_loads_2 = sys.argv[4]\n",
    "\n",
    "cluster_host = \"clusterabc\"\n",
    "cluster_port = \"9200\"\n",
    "json_loads_1 = \"data/index-2016.04.10_hostsarray.json\"\n",
    "json_loads_2 = \"data/index-2016.04.11_hostsarray.json\"\n",
    "\n",
    "print json_loads_1\n",
    "print json_loads_2\n",
    "\n",
    "with open(json_loads_1) as data_file:    \n",
    "    data1 = json.load(data_file)\n",
    "#pprint(data1)\n",
    "\n",
    "with open(json_loads_2) as data_file:    \n",
    "    data2 = json.load(data_file)\n",
    "#pprint(data2)\n",
    "\n",
    "def ordered(obj):\n",
    "    if isinstance(obj, dict):\n",
    "        return sorted((k, ordered(v)) for k, v in obj.items())\n",
    "    if isinstance(obj, list):\n",
    "        return sorted(ordered(x) for x in obj)\n",
    "    else:\n",
    "        return obj\n",
    "\n",
    "\n",
    "result = ordered(data1) == ordered(data2)\n",
    "print \"result was: \" + str(result)\n",
    "if result == False:\n",
    "    pprint(data1)\n",
    "    pprint(data2)\n",
    "    pprint(cluster_host+\":\"+cluster_port)\n",
    "    \n",
    "\n"
   ]
  }
 ],
 "metadata": {
  "kernelspec": {
   "display_name": "Python 2",
   "language": "python",
   "name": "python2"
  },
  "language_info": {
   "codemirror_mode": {
    "name": "ipython",
    "version": 2
   },
   "file_extension": ".py",
   "mimetype": "text/x-python",
   "name": "python",
   "nbconvert_exporter": "python",
   "pygments_lexer": "ipython2",
   "version": "2.7.10"
  }
 },
 "nbformat": 4,
 "nbformat_minor": 0
}
